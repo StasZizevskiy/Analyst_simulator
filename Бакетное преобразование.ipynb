{
 "cells": [
  {
   "cell_type": "markdown",
   "id": "fe877148-14a3-4aff-9848-b337bb03ad1c",
   "metadata": {},
   "source": [
    "Бакетное преобразование\n",
    "Еще один подход, который очень часто применяется — бакетное преобразование. Надо разбить пользователей на n «корзинок» («бакетов»). Нужно гарантировать, что каждый пользователь попадет только в один бакет и пользователи по бакетам будут распределены равномерно. Это можно гарантировать с помощью того же хэширования с солью. О применении такого в Авито можно прочитать тут. Каждый бакет теперь становится как бы «метапользователем», участвующим в эксперименте. И внутри такого «метапользователя» показатель нужно как-то агрегировать.\n",
    "\n",
    "Обычно вычисляют среднюю метрику в бакете, но можно, например, подсчитать медиану или какой-то квантиль. Скажем, если у нас 50 бакетов для теста и контроля, получается, будто мы тест проводим на группах по 50 метапользователей в каждой :)\n",
    "\n",
    "В чем тут логика\n",
    "Когда мы делим нашу исходную выборку на какое-то количество бакетов и считаем в каждом бакете, например, среднее, на выходе мы получаем выборку из 50-ти значений среднего по этим «метапользователям». Будто мы сделали бутстреп, но только не сгенерировав псевдовыборку, а откусив правильным образом кусок из имеющейся.\n",
    "\n",
    "Поверх бакетного преобразования можно, например, применить стандартный t-тест (если примерно выполнены его предположения) или тест Манна-Уитни."
   ]
  },
  {
   "cell_type": "code",
   "execution_count": 1,
   "id": "f2361feb-5b93-4154-b0f7-a4a60a1c428b",
   "metadata": {},
   "outputs": [],
   "source": [
    "import pandahouse\n",
    "import swifter\n",
    "import hashlib\n",
    "import seaborn as sns\n",
    "import scipy.stats as stats\n",
    "import pandas as pd\n",
    "import numpy as np"
   ]
  },
  {
   "cell_type": "code",
   "execution_count": 2,
   "id": "a5325956-223e-4135-94dc-002f62ccd173",
   "metadata": {},
   "outputs": [],
   "source": [
    "#подключение к серверу\n",
    "connection = {\n",
    "    'host': 'https://clickhouse.lab.karpov.courses',\n",
    "    'password': 'dpo_python_2020',\n",
    "    'user': 'student',\n",
    "    'database': 'simulator'\n",
    "}\n"
   ]
  },
  {
   "cell_type": "code",
   "execution_count": 3,
   "id": "c09b9b2d-56c5-46ee-91dd-10e1c3e9dc95",
   "metadata": {},
   "outputs": [
    {
     "data": {
      "text/plain": [
       "MannwhitneyuResult(statistic=45.0, pvalue=1.0099815060146218e-16)"
      ]
     },
     "execution_count": 3,
     "metadata": {},
     "output_type": "execute_result"
    }
   ],
   "source": [
    "q = \"\"\"\n",
    "\n",
    "SELECT exp_group, bucket,\n",
    "    sum(likes)/sum(views) as bucket_ctr,\n",
    "    quantileExact(0.9)(ctr) as ctr9\n",
    "FROM (SELECT exp_group, \n",
    "        xxHash64(user_id)%50 as bucket,\n",
    "        user_id,\n",
    "        sum(action = 'like') as likes,\n",
    "        sum(action = 'view') as views,\n",
    "        likes/views as ctr\n",
    "    FROM {db}.feed_actions \n",
    "    WHERE toDate(time) between '2021-11-15' and '2021-11-21'\n",
    "        and exp_group in (0,3)\n",
    "    GROUP BY exp_group, bucket, user_id)\n",
    "GROUP BY exp_group, bucket\n",
    "\"\"\"\n",
    "\n",
    "df = pandahouse.read_clickhouse(q, connection=connection)\n",
    "\n",
    "#тест Манна-Уитни видит отличие\n",
    "stats.mannwhitneyu(df[df.exp_group == 0].bucket_ctr, \n",
    "                   df[df.exp_group == 3].bucket_ctr, \n",
    "                   alternative = 'two-sided')"
   ]
  },
  {
   "cell_type": "code",
   "execution_count": 4,
   "id": "f102ce38-6e32-4311-9fc8-e4f2662b1893",
   "metadata": {},
   "outputs": [
    {
     "data": {
      "text/plain": [
       "Ttest_indResult(statistic=-14.755503007460415, pvalue=1.2278707215533271e-26)"
      ]
     },
     "execution_count": 4,
     "metadata": {},
     "output_type": "execute_result"
    }
   ],
   "source": [
    "#и t-тест тоже\n",
    "\n",
    "stats.ttest_ind(df[df.exp_group == 0].bucket_ctr, \n",
    "                   df[df.exp_group == 3].bucket_ctr, \n",
    "                   equal_var = False)"
   ]
  },
  {
   "cell_type": "code",
   "execution_count": 5,
   "id": "8cac06cb-2466-438f-aaaa-59d2ef879b42",
   "metadata": {},
   "outputs": [
    {
     "data": {
      "text/plain": [
       "<Axes: xlabel='bucket_ctr', ylabel='Count'>"
      ]
     },
     "execution_count": 5,
     "metadata": {},
     "output_type": "execute_result"
    },
    {
     "data": {
      "image/png": "[encoded data removed]",
      "text/plain": [
       "<Figure size 432x288 with 1 Axes>"
      ]
     },
     "metadata": {
      "needs_background": "light"
     },
     "output_type": "display_data"
    }
   ],
   "source": [
    "#Распределение бакетного CTR даже более-менее похоже на нормальное! \n",
    "\n",
    "sns.histplot(df[df.exp_group == 0].bucket_ctr)"
   ]
  },
  {
   "cell_type": "code",
   "execution_count": 6,
   "id": "6a408a1e-e674-4f4b-b274-dbdcb789a214",
   "metadata": {},
   "outputs": [
    {
     "data": {
      "text/plain": [
       "<Axes: xlabel='ctr9', ylabel='Count'>"
      ]
     },
     "execution_count": 6,
     "metadata": {},
     "output_type": "execute_result"
    },
    {
     "data": {
      "image/png": "[encoded data removed]",
      "text/plain": [
       "<Figure size 432x288 with 1 Axes>"
      ]
     },
     "metadata": {
      "needs_background": "light"
     },
     "output_type": "display_data"
    }
   ],
   "source": [
    "#А вот с квантилями пользовательских CTR стоит быть осторожнее, t-тест тут может работать не очень хорошо:\n",
    "\n",
    "sns.histplot(df[df.exp_group == 3].ctr9)"
   ]
  },
  {
   "cell_type": "code",
   "execution_count": null,
   "id": "98745b40-9c18-4109-a1d4-a089e3fa9908",
   "metadata": {},
   "outputs": [],
   "source": []
  }
 ],
 "metadata": {
  "kernelspec": {
   "display_name": "Python [conda env:base] *",
   "language": "python",
   "name": "conda-base-py"
  },
  "language_info": {
   "codemirror_mode": {
    "name": "ipython",
    "version": 3
   },
   "file_extension": ".py",
   "mimetype": "text/x-python",
   "name": "python",
   "nbconvert_exporter": "python",
   "pygments_lexer": "ipython3",
   "version": "3.12.7"
  }
 },
 "nbformat": 4,
 "nbformat_minor": 5
}
